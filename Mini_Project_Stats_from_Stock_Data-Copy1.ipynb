{
 "cells": [
  {
   "cell_type": "markdown",
   "id": "a71a0c12",
   "metadata": {},
   "source": [
    "# Jupyter Notebook showing Pandas usage for Udacity course\n",
    "## Author: Andy Orie\n",
    "### Date: 23rd June 2022\n",
    " > *You are here to enable the Divine Purpose of the universe to unfold. That is how important you are.*"
   ]
  },
  {
   "cell_type": "code",
   "execution_count": 1,
   "id": "68d9036d",
   "metadata": {},
   "outputs": [],
   "source": [
    "# Let's import appropriate libraries\n",
    "import numpy as np\n",
    "import pandas as pd\n",
    "import os"
   ]
  },
  {
   "cell_type": "code",
   "execution_count": 8,
   "id": "3d908671",
   "metadata": {},
   "outputs": [
    {
     "name": "stdout",
     "output_type": "stream",
     "text": [
      "Current Working Directory: /Users/andyorie/Desktop/In_Use_Folders/Udacity/jupyter_notebooks/Pandas/MiniProject/AIPND-master/Pandas Mini-Project\n",
      "\n",
      "Files in Working Directory: ['AMZN.csv', 'Statistics from Stock Data - Solution.ipynb', 'GOOG.csv', 'AAPL.csv', 'Statistics from Stock Data.ipynb']\n",
      "\n",
      "*************************\n",
      "Is this the correct directory? y\n",
      "Great!, Let us proceed\n"
     ]
    }
   ],
   "source": [
    "# Checking Working Directory\n",
    "path = os.getcwd()\n",
    "print('Current Working Directory:', path)\n",
    "print()\n",
    "print('Files in Working Directory:', os.listdir(path))\n",
    "print()\n",
    "\n",
    "# Asking for the user to enter the string for the path to change the working directory\n",
    "print('*************************')\n",
    "user_confirm_path = input('Is this the correct directory? ')\n",
    "if user_confirm_path.upper() == 'Y':\n",
    "      print('Great!, Let us proceed')\n",
    "else:\n",
    "    new_path = input(\"Please enter the path: \")\n",
    "    os.chdir(new_path)\n",
    "    print()\n",
    "    print('**************************')\n",
    "    print('Current Working Directory:', os.getcwd())\n",
    "    print()\n",
    "    print('Files in Working Driectory:', os.listdir(os.getcwd()))"
   ]
  },
  {
   "cell_type": "code",
   "execution_count": null,
   "id": "358e40be",
   "metadata": {},
   "outputs": [],
   "source": [
    "# We read in a stock data data file into a data frame and see what it looks like\n",
    "df = pd.read_csv('./GOOG.csv')\n",
    "\n",
    "# We display the first 5 rows of the DataFrame\n",
    "df.head()"
   ]
  },
  {
   "cell_type": "code",
   "execution_count": null,
   "id": "dfb5ead5",
   "metadata": {},
   "outputs": [],
   "source": [
    "print('The Google file is', df.shape, 'in shape')\n",
    "print('The columns are:', df.columns)"
   ]
  },
  {
   "cell_type": "code",
   "execution_count": null,
   "id": "dbca2935",
   "metadata": {},
   "outputs": [],
   "source": [
    "df.dtypes"
   ]
  },
  {
   "cell_type": "code",
   "execution_count": null,
   "id": "5725c78a",
   "metadata": {},
   "outputs": [],
   "source": [
    "# We load the Google stock data into a DataFrame\n",
    "google_stock = pd.read_csv('./GOOG.csv', index_col=['Date'], usecols=['Date', 'Adj Close'], parse_dates=True)\n",
    "print(google_stock.head())\n",
    "print('*****')\n",
    "\n",
    "# We load the Apple stock data into a DataFrame\n",
    "apple_stock = pd.read_csv('./AAPL.csv', index_col=['Date'], usecols=['Date', 'Adj Close'], parse_dates=True)\n",
    "print(apple_stock.head())\n",
    "print('*****')\n",
    "\n",
    "# We load the Amazon stock data into a DataFrame\n",
    "amazon_stock = pd.read_csv('./AMZN.csv', index_col=['Date'], usecols=['Date', 'Adj Close'], parse_dates=True)\n",
    "print(amazon_stock.head())"
   ]
  },
  {
   "cell_type": "code",
   "execution_count": null,
   "id": "04bc01b4",
   "metadata": {},
   "outputs": [],
   "source": [
    "# We create calendar dates between '2000-01-01' and  '2016-12-31'\n",
    "dates = pd.date_range('2000-01-01', '2016-12-31')\n",
    "dates"
   ]
  },
  {
   "cell_type": "code",
   "execution_count": null,
   "id": "7e9d6ecb",
   "metadata": {},
   "outputs": [],
   "source": [
    "# We create an empty DataFrame that uses the above dates as indices\n",
    "all_stocks = pd.DataFrame(index = dates)\n",
    "all_stocks"
   ]
  },
  {
   "cell_type": "code",
   "execution_count": null,
   "id": "7273d510",
   "metadata": {},
   "outputs": [],
   "source": [
    "# Change the Adj Close column label to Google\n",
    "google_stock = google_stock.rename(columns={'Adj Close': 'Google'})\n",
    "\n",
    "# Change the Adj Close column label to Apple\n",
    "apple_stock = apple_stock.rename(columns={'Adj Close': 'Apple'})\n",
    "\n",
    "# Change the Adj Close column label to Amazon\n",
    "amazon_stock = amazon_stock.rename(columns={'Adj Close': 'Amazon'})"
   ]
  },
  {
   "cell_type": "code",
   "execution_count": null,
   "id": "dc455488",
   "metadata": {},
   "outputs": [],
   "source": [
    "# We display the google_stock DataFrame\n",
    "print(google_stock.head())\n",
    "print()\n",
    "print(apple_stock.head())\n",
    "print()\n",
    "print(amazon_stock.head())"
   ]
  },
  {
   "cell_type": "code",
   "execution_count": null,
   "id": "1f453869",
   "metadata": {},
   "outputs": [],
   "source": [
    "# We join the Google stock to all_stocks\n",
    "all_stocks = all_stocks.join(google_stock)\n",
    "\n",
    "# We join the Apple stock to all_stocks\n",
    "all_stocks = all_stocks.join(apple_stock)\n",
    "\n",
    "# We join the Amazon stock to all_stocks\n",
    "all_stocks = all_stocks.join(amazon_stock)"
   ]
  },
  {
   "cell_type": "code",
   "execution_count": null,
   "id": "206a572a",
   "metadata": {},
   "outputs": [],
   "source": [
    "# We display the all_stocks DataFrame\n",
    "all_stocks.head()"
   ]
  },
  {
   "cell_type": "code",
   "execution_count": null,
   "id": "fbee34c9",
   "metadata": {},
   "outputs": [],
   "source": [
    "# We check the shape of the all_stock dataframe to ensure it has the 6210 date indicies \n",
    "all_stocks.shape"
   ]
  },
  {
   "cell_type": "code",
   "execution_count": null,
   "id": "3b17cc1d",
   "metadata": {},
   "outputs": [],
   "source": [
    "# Describe the all_stocks DataFrame\n",
    "all_stocks.describe()"
   ]
  },
  {
   "cell_type": "code",
   "execution_count": null,
   "id": "659cce8c",
   "metadata": {},
   "outputs": [],
   "source": [
    "# Print the column-wise count of NaN values, if any, in the all_stocks dataframe.\n",
    "print('There are', all_stocks.isnull().sum().sum(), 'NaN values in the all_stocks dataframe')\n",
    "\n",
    "# Remove any rows that contain NaN values. Do this operation inplace.\n",
    "all_stocks.dropna(axis=0, inplace=True)"
   ]
  },
  {
   "cell_type": "code",
   "execution_count": null,
   "id": "1cc18a20",
   "metadata": {},
   "outputs": [],
   "source": [
    "print('There are', all_stocks.isnull().sum().sum(), 'NaN values remaining in the all_stocks dataframe')\n",
    "print('The dataframe now has a', all_stocks.shape, 'shape')"
   ]
  },
  {
   "cell_type": "code",
   "execution_count": null,
   "id": "1aa2b6cd",
   "metadata": {},
   "outputs": [],
   "source": [
    "# Print the average stock price for each stock\n",
    "print('The average stock price for each stock is:', all_stocks.mean())\n",
    "print()\n",
    "\n",
    "# Print the median stock price for each stock\n",
    "print('The median stock price for each stock is:', all_stocks.median())\n",
    "print()\n",
    "\n",
    "# Print the standard deviation of the stock price for each stock  \n",
    "print('The std dev for each stock is:', all_stocks.std())\n",
    "print()\n",
    "\n",
    "# Print the correlation between stocks\n",
    "all_stocks.corr()"
   ]
  },
  {
   "cell_type": "code",
   "execution_count": null,
   "id": "ec33872d",
   "metadata": {},
   "outputs": [],
   "source": [
    "# We compute the rolling mean using a 150-Day window for Google stock\n",
    "rollingMean = google_stock.rolling(150).mean()"
   ]
  },
  {
   "cell_type": "code",
   "execution_count": null,
   "id": "cb6b0397",
   "metadata": {},
   "outputs": [],
   "source": [
    "# this allows plots to be rendered in the notebook\n",
    "%matplotlib inline \n",
    "\n",
    "# We import matplotlib into Python\n",
    "import matplotlib.pyplot as plt\n",
    "\n",
    "\n",
    "# We plot the Google stock data\n",
    "plt.plot(all_stocks['Google'])\n",
    "\n",
    "# We plot the rolling mean ontop of our Google stock data\n",
    "plt.plot(rollingMean)\n",
    "plt.legend(['Google Stock Price', 'Rolling Mean'])\n",
    "plt.show()"
   ]
  },
  {
   "cell_type": "code",
   "execution_count": null,
   "id": "74ddf4e4",
   "metadata": {},
   "outputs": [],
   "source": []
  },
  {
   "cell_type": "code",
   "execution_count": null,
   "id": "210254d1",
   "metadata": {},
   "outputs": [],
   "source": []
  }
 ],
 "metadata": {
  "kernelspec": {
   "display_name": "Python 3",
   "language": "python",
   "name": "python3"
  },
  "language_info": {
   "codemirror_mode": {
    "name": "ipython",
    "version": 3
   },
   "file_extension": ".py",
   "mimetype": "text/x-python",
   "name": "python",
   "nbconvert_exporter": "python",
   "pygments_lexer": "ipython3",
   "version": "3.8.8"
  }
 },
 "nbformat": 4,
 "nbformat_minor": 5
}
